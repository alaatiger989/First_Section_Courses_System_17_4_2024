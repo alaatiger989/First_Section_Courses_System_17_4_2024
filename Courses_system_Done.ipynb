{
 "cells": [
  {
   "cell_type": "markdown",
   "id": "2d8f9675-8b3e-4c36-8f9d-7879ef870202",
   "metadata": {},
   "source": [
    "# Building a Private AI Chatbot"
   ]
  },
  {
   "cell_type": "markdown",
   "id": "80a73d56-a11f-4aa3-aa41-5925e841f89a",
   "metadata": {},
   "source": [
    "# Importing Packages"
   ]
  },
  {
   "cell_type": "code",
   "execution_count": 1,
   "id": "ea8f2ef3-b8ed-4f63-b769-c7cc7f376f2e",
   "metadata": {},
   "outputs": [
    {
     "name": "stderr",
     "output_type": "stream",
     "text": [
      "C:\\Users\\Administrator\\anaconda3\\envs\\alaa_ai_env\\lib\\site-packages\\tqdm\\auto.py:21: TqdmWarning: IProgress not found. Please update jupyter and ipywidgets. See https://ipywidgets.readthedocs.io/en/stable/user_install.html\n",
      "  from .autonotebook import tqdm as notebook_tqdm\n"
     ]
    }
   ],
   "source": [
    "# import dependencies\n",
    "import torch\n",
    "from transformers import AutoModelForCausalLM, AutoTokenizer, BitsAndBytesConfig, pipeline\n",
    "\n",
    "import os\n",
    "\n",
    "from langchain.vectorstores import Chroma\n",
    "from langchain.llms import HuggingFacePipeline\n",
    "from langchain.document_loaders import TextLoader\n",
    "from langchain.text_splitter import RecursiveCharacterTextSplitter\n",
    "from langchain.embeddings import HuggingFaceEmbeddings\n",
    "from langchain.vectorstores import Chroma\n",
    "from langchain import HuggingFacePipeline\n",
    "from langchain.document_loaders import PyPDFDirectoryLoader\n",
    "from langchain.chains import ConversationalRetrievalChain\n",
    "from langchain.memory import ConversationBufferMemory"
   ]
  },
  {
   "cell_type": "code",
   "execution_count": 14,
   "id": "aa13685f-d1f0-4470-8f0e-749a3cfac574",
   "metadata": {},
   "outputs": [],
   "source": [
    "from deep_translator import GoogleTranslator"
   ]
  },
  {
   "cell_type": "markdown",
   "id": "ce123d85-c5d0-40b2-9799-261d4ef7cfc6",
   "metadata": {},
   "source": [
    "# Download the Model from HuggingFace:\n",
    "download the Zephyr-7B-Alpha model"
   ]
  },
  {
   "cell_type": "code",
   "execution_count": 2,
   "id": "449e6527-f4cc-4bb8-a146-998af0cc6d67",
   "metadata": {},
   "outputs": [],
   "source": [
    "# specify model huggingface mode name\n",
    "model_name = \"anakin87/zephyr-7b-alpha-sharded\"\n",
    "\n",
    "# function for loading 4-bit quantized model\n",
    "def load_quantized_model(model_name: str):\n",
    "    \"\"\"\n",
    "    :param model_name: Name or path of the model to be loaded.\n",
    "    :return: Loaded quantized model.\n",
    "    \"\"\"\n",
    "    bnb_config = BitsAndBytesConfig(\n",
    "        load_in_4bit=True,\n",
    "        bnb_4bit_use_double_quant=True,\n",
    "        bnb_4bit_quant_type=\"nf4\",\n",
    "        bnb_4bit_compute_dtype=torch.bfloat16\n",
    "    )\n",
    "\n",
    "    model = AutoModelForCausalLM.from_pretrained(\n",
    "        model_name,\n",
    "        torch_dtype=torch.bfloat16,\n",
    "        quantization_config=bnb_config\n",
    "    )\n",
    "    return model"
   ]
  },
  {
   "cell_type": "code",
   "execution_count": 3,
   "id": "fd32505b-3929-4835-948c-ac4f4cfc2ce0",
   "metadata": {},
   "outputs": [],
   "source": [
    "# fucntion for initializing tokenizer\n",
    "def initialize_tokenizer(model_name: str):\n",
    "    \"\"\"\n",
    "    Initialize the tokenizer with the specified model_name.\n",
    "\n",
    "    :param model_name: Name or path of the model for tokenizer initialization.\n",
    "    :return: Initialized tokenizer.\n",
    "    \"\"\"\n",
    "    tokenizer = AutoTokenizer.from_pretrained(model_name)\n",
    "    tokenizer.bos_token_id = 1  # Set beginning of sentence token id\n",
    "    return tokenizer"
   ]
  },
  {
   "cell_type": "code",
   "execution_count": 4,
   "id": "7c2504ee-9759-4d08-9ae5-e255c0ece06c",
   "metadata": {},
   "outputs": [
    {
     "name": "stderr",
     "output_type": "stream",
     "text": [
      "`low_cpu_mem_usage` was None, now set to True since model is quantized.\n",
      "Downloading shards: 100%|██████████| 8/8 [18:49<00:00, 141.22s/it]\n",
      "Loading checkpoint shards: 100%|██████████| 8/8 [02:06<00:00, 15.87s/it]\n"
     ]
    }
   ],
   "source": [
    "# load model\n",
    "model = load_quantized_model(model_name)\n",
    "\n",
    "# initialize tokenizer\n",
    "tokenizer = initialize_tokenizer(model_name)\n",
    "\n",
    "# specify stop token ids\n",
    "stop_token_ids = [0]"
   ]
  },
  {
   "cell_type": "code",
   "execution_count": 5,
   "id": "4131eaa8-7894-47ac-b507-f8b844409ae1",
   "metadata": {},
   "outputs": [],
   "source": [
    "# load pdf files\n",
    "loader = PyPDFDirectoryLoader(\"pdfs\")\n",
    "documents = loader.load()"
   ]
  },
  {
   "cell_type": "code",
   "execution_count": 6,
   "id": "5f9ef2eb-0cdd-466d-9717-d1f6ea9e53b9",
   "metadata": {},
   "outputs": [],
   "source": [
    "# split the documents in small chunks\n",
    "text_splitter = RecursiveCharacterTextSplitter(chunk_size=1000, chunk_overlap=100) #Chage the chunk_size and chunk_overlap as needed\n",
    "all_splits = text_splitter.split_documents(documents)"
   ]
  },
  {
   "cell_type": "code",
   "execution_count": 7,
   "id": "35b5ed5b-f921-4c09-9e02-048986db229c",
   "metadata": {},
   "outputs": [],
   "source": [
    "# specify embedding model (using huggingface sentence transformer)\n",
    "#embedding_model_name = \"sentence-transformers/all-mpnet-base-v2\"\n",
    "embedding_model_name = \"intfloat/multilingual-e5-large\"\n",
    "model_kwargs = {\"device\": \"cuda\"}\n",
    "embeddings = HuggingFaceEmbeddings(model_name=embedding_model_name, model_kwargs=model_kwargs)"
   ]
  },
  {
   "cell_type": "code",
   "execution_count": 8,
   "id": "9c6c7afe-736e-478b-836f-da1b7010aef5",
   "metadata": {},
   "outputs": [],
   "source": [
    "#embed document chunks\n",
    "vectordb = Chroma.from_documents(documents=all_splits, embedding=embeddings, persist_directory=\"chroma_db_multilingual\")"
   ]
  },
  {
   "cell_type": "code",
   "execution_count": 9,
   "id": "b56ba02d-c3ad-4bbb-8654-391fa7aea346",
   "metadata": {},
   "outputs": [],
   "source": [
    "# specify the retriever\n",
    "retriever = vectordb.as_retriever()"
   ]
  },
  {
   "cell_type": "code",
   "execution_count": 10,
   "id": "0ff3b548-0a9c-4d47-80f2-e4600b402e4e",
   "metadata": {},
   "outputs": [],
   "source": [
    "# build huggingface pipeline for using zephyr-7b-alpha\n",
    "pipeline = pipeline(\n",
    "        \"text-generation\",\n",
    "        model=model,\n",
    "        tokenizer=tokenizer,\n",
    "        use_cache=True,\n",
    "        device_map=\"auto\",\n",
    "        max_length=2048,\n",
    "        do_sample=True,\n",
    "        top_k=5,\n",
    "        num_return_sequences=1,\n",
    "        eos_token_id=tokenizer.eos_token_id,\n",
    "        pad_token_id=tokenizer.eos_token_id,\n",
    ")"
   ]
  },
  {
   "cell_type": "code",
   "execution_count": 11,
   "id": "93b0d9c8-6e33-4d5c-9cf2-7a551f4eb6af",
   "metadata": {},
   "outputs": [],
   "source": [
    "# specify the llm\n",
    "llm = HuggingFacePipeline(pipeline=pipeline)"
   ]
  },
  {
   "cell_type": "code",
   "execution_count": 12,
   "id": "8a649bee-4540-48cd-8168-85aa37c5ee2a",
   "metadata": {},
   "outputs": [],
   "source": [
    "# build conversational retrieval chain with memory (rag) using langchain\n",
    "def create_conversation(query: str, chat_history: list) -> tuple:\n",
    "    try:\n",
    "\n",
    "        memory = ConversationBufferMemory(\n",
    "            memory_key='chat_history',\n",
    "            return_messages=False\n",
    "        )\n",
    "        qa_chain = ConversationalRetrievalChain.from_llm(\n",
    "            llm=llm,\n",
    "            retriever=retriever,\n",
    "            memory=memory,\n",
    "            get_chat_history=lambda h: h,\n",
    "        )\n",
    "\n",
    "        result = qa_chain({'question': query, 'chat_history': chat_history})\n",
    "        chat_history.append((query, result['answer']))\n",
    "        return '', chat_history\n",
    "\n",
    "\n",
    "    except Exception as e:\n",
    "        chat_history.append((query, e))\n",
    "        return '', chat_history"
   ]
  },
  {
   "cell_type": "code",
   "execution_count": 15,
   "id": "ce81b6c0-800a-48d7-b874-ca0aeada5b5f",
   "metadata": {},
   "outputs": [
    {
     "name": "stdin",
     "output_type": "stream",
     "text": [
      "User:  اشرحلى شرح بنود المهارات الانفعالية الاجتماعية\n"
     ]
    }
   ],
   "source": [
    "user_prompt = GoogleTranslator(source='auto', target='en').translate(input(\"User: \"))"
   ]
  },
  {
   "cell_type": "code",
   "execution_count": 18,
   "id": "3923e680-26c8-4963-b7ae-efcbb19c4069",
   "metadata": {},
   "outputs": [
    {
     "name": "stdout",
     "output_type": "stream",
     "text": [
      "('', [('Explain to me the explanation of the social emotional skills items', \"Use the following pieces of context to answer the question at the end. If you don't know the answer, just say that you don't know, don't try to make up an answer.\\n\\nbasic  daily  performance  in  eating,  such  as  basic  behaviors  (swallowing,  chewing)  to  behaviors  \\nthat  depend  largely  on  the  social  aspect,  such  as  (buying  \\nfrom  the  supermarket).  Evaluates  performance  in  eating  and  meal  preparation  *This  subtest  includes  20  tasks\\n3-  Entering  the  \\nbathroom:  The  skills  of  entering  the  bathroom  mean  self-care  skills  that  support  basic  daily  performance  in  \\nrelieving  oneself,  such  as  the  skills  of  understanding  the  need  to  relieve  oneself,  taking  down  clothes,  and  \\nkeeping  \\none’s  clothes  dry.  *This  sub-test  includes  18  tasks  that  evaluate  performance  in  using  the  toilet  and  bathroom.\\n-4  Personal  care:  \\nSelf-care  skills  mean  the  sets  of  behaviors  that  an  individual  uses  to  participate  in  self-\\ncare  activities,  such  as  eating,  dressing,  going  to  the  bathroom,  grooming,  maintaining\\n\\nsocial  support  and  acceptance  in  \\naddition  to  avoiding  \\nunpleasant  social  situations:  1-  Reflection  on  general  \\nperformance.  2-  Reflection  \\non  school  success  On  \\nrelationships.  4-  Influencing  successful  work  and  community  integration.  Sub-tests:  1-  Social  interaction:  \\nAn  individual’s  social  skills  affect  his  ability  to  play,  learn,  and  participate  in  leisure  time  activities  \\nover  the  course  of  a  lifetime.  Social  skills  are  used  to  obtain  social  \\nsupport  and  acceptance  in  addition  to  avoiding  unpleasant  social  situations.  *  A  number  of  characteristics  \\nmay  affect  the  acquisition  of  social  skills.  For  example,  developing  effective  social  skills  requires  the  \\nindividual  to  be  able  to  understand  what  others  are  saying  and  to  communicate  clearly  with  others,  \\nas  communication  provides  the  opportunity  to  develop  social  relationships.  *This  sub-test  evaluates\\n\\ndeﬁ ned social skills as “… socially signiﬁ  cant behaviors exhibited in speciﬁ  c \\nsituations that predict important social outcomes” (p. 331). However, most pro-fessionals and parents similarly explain social skills as discrete verbal and non-\\nverbal behaviors that are learned by watching people around them or speciﬁ  cally \\ntaught to maximize social reinforcement.\\nSocial skills and soc ial competenc e often are used interc hangeably to desc ribe \\nan individual’s soc ial func tioning. However, these terms should be distinguished \\nto promote c larity for instruc tional purposes. Social skills  constitute situation-\\nspeciﬁ c patterns of behavior nec essary for interac tions with others. Social com-\\npetence  refers to how well an individual uses soc ial skills to produc e soc ially \\nacceptable responses in various soc ial situations. F or example, an individual may \\ndisplay critical soc ial skills to interac t with others, yet display a lac k of soc ial\\n\\nscales  includes  the  three  main  domains  (practical,  conceptual,  social)  and  the  motor  \\ndomain  is  not  included  in  the  total  score.\\nSocial  \\nrefers  to  how  an  individual  uses  his  or  her  social  skills  to  achieve  socially  acceptable  responses  inAnd  with\\nMany  social  situations.Machine Translated by Google\\n\\nQuestion: Explain to me the explanation of the social emotional skills items\\nHelpful Answer: The social emotional skills items in the assessment measure an individual's ability to understand and manage their own emotions, as well as the emotions of others. These skills are essential for social success, as they allow for effective communication, problem-solving, and relationship-building. The assessment covers four main domains: practical skills, conceptual skills, social skills, and motor skills, with the motor domain not being included in the total score. The social skills domain evaluates the individual's ability to use social skills in various social situations, and the social emotional skills items within this domain specifically measure the individual's understanding and management of emotions, which are crucial for successful social interactions.\")])\n"
     ]
    }
   ],
   "source": [
    "print(create_conversation(user_prompt , []))"
   ]
  },
  {
   "cell_type": "code",
   "execution_count": null,
   "id": "082e12ce-08fa-46d9-b132-46dded8cfe16",
   "metadata": {},
   "outputs": [],
   "source": []
  }
 ],
 "metadata": {
  "kernelspec": {
   "display_name": "Python 3 (ipykernel)",
   "language": "python",
   "name": "python3"
  },
  "language_info": {
   "codemirror_mode": {
    "name": "ipython",
    "version": 3
   },
   "file_extension": ".py",
   "mimetype": "text/x-python",
   "name": "python",
   "nbconvert_exporter": "python",
   "pygments_lexer": "ipython3",
   "version": "3.10.14"
  }
 },
 "nbformat": 4,
 "nbformat_minor": 5
}
